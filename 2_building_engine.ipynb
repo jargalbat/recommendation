{
 "cells": [
  {
   "metadata": {},
   "cell_type": "markdown",
   "source": [
    "# Building recommender engine\n",
    "\n",
    "Surpriselib\n",
    "AlgoBase class-аас удамшсан SVD, KNNBasic, SVDpp, Custom class-ууд.\n",
    "\n",
    "Жишээ асуудал:\n",
    "Хэрэглэгчдийн кинонд өгөх магадлалтай үнэлгээг таамаглаад, хамгийн их таалагдах магадлалтай кинонуудыг хэрэглэгчдэд санал болгох.\n",
    " "
   ],
   "id": "640ee4c20e9f2624"
  },
  {
   "metadata": {},
   "cell_type": "markdown",
   "source": [
    "### Implement an estimate function\n",
    "Тооцох функцыг тодорхойлох"
   ],
   "id": "b178d48b7e1baf2b"
  },
  {
   "metadata": {},
   "cell_type": "code",
   "outputs": [],
   "execution_count": null,
   "source": [
    "from surprise import AlgoBase\n",
    "\n",
    "\n",
    "class MyOwnAlgorithm(AlgoBase):\n",
    "    def __init__(self):\n",
    "        AlgoBase.__init__(self)\n",
    "\n",
    "    def estimate(self, user, item):\n",
    "        return 3"
   ],
   "id": "407fede7d2187b7"
  },
  {
   "metadata": {},
   "cell_type": "code",
   "outputs": [],
   "execution_count": null,
   "source": [
    "# Үнэлгээ өгөх систем нь RecommenderMetrics-ийг ашиглан өгөгдөлд үнэлгээ өгнө. Өөр өөр алгоритмууд хэрхэн ажиллаж байгаад үнэлэлт дүгнэлт өгнө.\n",
    "\n",
    "# 1. Үнэлгээ өгөх\n",
    "class EvaluatedAlgorithm(AlgoBase):\n",
    "    algorithm:AlgoBase\n",
    "    Evaluate(EvaluationData)\n",
    "\n",
    "# 2. Үнэлгээ өгөх өгөгдөл\n",
    "EvaluationData(Dataset)\n",
    "    GetTrainSet()\n",
    "    GetTestSet()\n",
    "\n",
    "# 3. Metric-үүд\n",
    "class RecommenderMetrics\n",
    "    accuracy\n",
    "    hit_rate\n",
    "    diversity\n",
    "    novelty\n",
    "    coverage\n",
    "    \n",
    "# 4. Өөр өөр алгоритмуудад харьцуулалт хийх\n",
    "Evaluator(Dataset)\n",
    "    AddAlgorithm(algorithm)\n",
    "    Evaluate()\n",
    "    \n",
    "    dataset: EvaluatedDataSet\n",
    "    algorithms: EvaluatedAlgorithm[]\n",
    "\n",
    "# It's just this easy\n",
    "# SVD algo-г random algo-той харьцуулах\n",
    "\n",
    "# Load up common data set for the recommender algorithms\n",
    "(evaluationData, rankings) = LoadMovieLensData()\n",
    "\n",
    "# Construct Evaluator to, you know, evaluate them\n",
    "evaluator = Evaluator(evaluationData, rankings)\n",
    "\n",
    "# Throw in an SVD recommender\n",
    "SVDAlgorithm = SVD(random_state=10)\n",
    "evaluator.AddAlorithm(SVDAlgorithm, \"SVD\")\n",
    "\n",
    "# Just make random recommendations\n",
    "Random = NormalPredictor()\n",
    "evaluator.AddAlgorithm(Random, \"Random\")\n",
    "\n",
    "# Fight!\n",
    "evaluator.Evalutate(True)"
   ],
   "id": "9ab39e1bb32043dc"
  },
  {
   "metadata": {},
   "cell_type": "markdown",
   "source": [
    "Here is a more readable version of the algorithm comparison table:\n",
    "\n",
    "Algorithm | RMSE   | MAE    | HR     | CHR    | ARHR   | Coverage | Diversity | Novelty  \n",
    "----------|--------|--------|--------|--------|--------|----------|-----------|---------\n",
    "SVD       | 0.9034 | 0.6978 | 0.0298 | 0.0298 | 0.0112 | 0.9553   | 0.0445    | 491.5768 \n",
    "Random    | 1.4385 | 1.1478 | 0.0089 | 0.0089 | 0.0015 | 1.0000   | 0.0719    | 557.8365 \n",
    "\n",
    "Legend:\n",
    "\n",
    "RMSE (Root Mean Squared Error): Lower values mean better accuracy.\n",
    "MAE (Mean Absolute Error): Lower values mean better accuracy.\n",
    "HR (Hit Rate): How often we are able to recommend a left-out rating. Higher is better.\n",
    "CHR (Cumulative Hit Rate): Hit rate, confined to ratings above a certain threshold. Higher is better.\n",
    "ARHR (Average Reciprocal Hit Rank): Hit rate that takes the ranking into account. Higher is better.\n",
    "Coverage: Ratio of users for whom recommendations above a certain threshold exist. Higher is better.\n",
    "Diversity: 1-S, where S is the average similarity score between every possible pair of recommendations for a given user. Higher means more diverse.\n",
    "Novelty: Average popularity rank of recommended items. Higher means more novel."
   ],
   "id": "b9026d8a4c9e2eef"
  },
  {
   "metadata": {},
   "cell_type": "markdown",
   "source": [
    "Алгоритм  | RMSE   | MAE    | HR     | CHR    | ARHR   | Хамрах хүрээ | Олон янз байдал | Шинэлэг байдал  \n",
    "----------|--------|--------|--------|--------|--------|--------------|-----------------|---------------\n",
    "SVD       | 0.9034 | 0.6978 | 0.0298 | 0.0298 | 0.0112 | 0.9553       | 0.0445          | 491.5768 \n",
    "Санамсаргүй| 1.4385 | 1.1478 | 0.0089 | 0.0089 | 0.0015 | 1.0000       | 0.0719          | 557.8365 \n",
    "\n",
    "\n",
    "Тайлбар:\n",
    "\n",
    "RMSE (Root Mean Squared Error): Үндсэн алдааны квадратын дундаж. Бага утга нь илүү нарийвчлалтайг илтгэнэ.\n",
    "MAE (Mean Absolute Error): Үндсэн алдааны дундаж. Бага утга нь илүү нарийвчлалтайг илтгэнэ.\n",
    "HR (Hit Rate): Санамсаргүй үлдсэн үнэлгээг санал болгох боломжтой байдал. Их байх нь илүү сайн.\n",
    "CHR (Cumulative Hit Rate): Зарим босгыг давсан үнэлгээнд зориулсан Hit Rate. Их байх нь илүү сайн.\n",
    "ARHR (Average Reciprocal Hit Rank): Эгнээний давтамжийг харгалзан Hit Rate-ийг авсан утга. Их байх нь илүү сайн.\n",
    "Хамрах хүрээ (Coverage): Зарим босгыг давсан санал болголт байгаа хэрэглэгчдийн харьцаа. Их байх нь илүү сайн.\n",
    "Олон янз байдал (Diversity): 1-S, S нь тухайн хэрэглэгчийн бүх боломжит хослолын дундаж төстэй байдлын оноо. Их байх нь илүү олон янз байдалтай.\n",
    "Шинэлэг байдал (Novelty): Санал болгож буй зүйлсийн дундаж алдартай байдлын зэрэглэл. Их байх нь илүү шинэлэг зүйлсийг санал болгож байна гэсэн үг."
   ],
   "id": "b8e0148eac9d4422"
  },
  {
   "metadata": {},
   "cell_type": "markdown",
   "source": "dfdf",
   "id": "cd3889243f783cf6"
  }
 ],
 "metadata": {
  "kernelspec": {
   "display_name": "Python 3",
   "language": "python",
   "name": "python3"
  },
  "language_info": {
   "codemirror_mode": {
    "name": "ipython",
    "version": 2
   },
   "file_extension": ".py",
   "mimetype": "text/x-python",
   "name": "python",
   "nbconvert_exporter": "python",
   "pygments_lexer": "ipython2",
   "version": "2.7.6"
  }
 },
 "nbformat": 4,
 "nbformat_minor": 5
}
