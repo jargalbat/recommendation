{
 "cells": [
  {
   "cell_type": "markdown",
   "id": "80eb2093-2c1c-4dbc-95a3-16c350e68260",
   "metadata": {},
   "source": [
    "# Collaborative Filtering Hybrid"
   ]
  },
  {
   "cell_type": "markdown",
   "id": "83c634e2-94ab-452d-8d25-e23ede2d212c",
   "metadata": {},
   "source": [
    "1. Create the User-Item Interaction Matrix:\n",
    "This matrix represents the interactions (e.g., purchases) between users and items (books).\n",
    "\n",
    "2. Compute Collaborative Filtering Similarity:\n",
    "Calculate the similarity between users or items using collaborative filtering techniques.\n",
    "\n",
    "3. Create Item Feature Matrix:\n",
    "This matrix includes content-based features like book author and category.\n",
    "\n",
    "4. Compute Content-Based Similarity:\n",
    "Calculate the similarity between items based on their content features.\n",
    "\n",
    "5. Combine Similarity Scores:\n",
    "Combine the similarity scores from collaborative filtering and content-based filtering to get a hybrid similarity score.\n",
    "\n",
    "6. Generate Recommendations:\n",
    "Use the hybrid similarity score to generate recommendations for users."
   ]
  },
  {
   "cell_type": "markdown",
   "id": "f6a302ee-8aa2-4576-9df1-4ec0bece2641",
   "metadata": {},
   "source": [
    "### 1. Create the User-Item Interaction Matrix:"
   ]
  },
  {
   "cell_type": "code",
   "execution_count": 12,
   "id": "3ad2cefe-f398-4408-a524-4eb0f1702477",
   "metadata": {},
   "outputs": [
    {
     "data": {
      "text/html": [
       "<div>\n",
       "<style scoped>\n",
       "    .dataframe tbody tr th:only-of-type {\n",
       "        vertical-align: middle;\n",
       "    }\n",
       "\n",
       "    .dataframe tbody tr th {\n",
       "        vertical-align: top;\n",
       "    }\n",
       "\n",
       "    .dataframe thead th {\n",
       "        text-align: right;\n",
       "    }\n",
       "</style>\n",
       "<table border=\"1\" class=\"dataframe\">\n",
       "  <thead>\n",
       "    <tr style=\"text-align: right;\">\n",
       "      <th></th>\n",
       "      <th>user_id</th>\n",
       "      <th>book_id</th>\n",
       "      <th>interaction</th>\n",
       "    </tr>\n",
       "  </thead>\n",
       "  <tbody>\n",
       "    <tr>\n",
       "      <th>0</th>\n",
       "      <td>1</td>\n",
       "      <td>A</td>\n",
       "      <td>1</td>\n",
       "    </tr>\n",
       "    <tr>\n",
       "      <th>1</th>\n",
       "      <td>1</td>\n",
       "      <td>B</td>\n",
       "      <td>1</td>\n",
       "    </tr>\n",
       "    <tr>\n",
       "      <th>2</th>\n",
       "      <td>2</td>\n",
       "      <td>A</td>\n",
       "      <td>1</td>\n",
       "    </tr>\n",
       "    <tr>\n",
       "      <th>3</th>\n",
       "      <td>2</td>\n",
       "      <td>C</td>\n",
       "      <td>1</td>\n",
       "    </tr>\n",
       "    <tr>\n",
       "      <th>4</th>\n",
       "      <td>3</td>\n",
       "      <td>B</td>\n",
       "      <td>1</td>\n",
       "    </tr>\n",
       "    <tr>\n",
       "      <th>5</th>\n",
       "      <td>3</td>\n",
       "      <td>C</td>\n",
       "      <td>1</td>\n",
       "    </tr>\n",
       "    <tr>\n",
       "      <th>6</th>\n",
       "      <td>4</td>\n",
       "      <td>D</td>\n",
       "      <td>1</td>\n",
       "    </tr>\n",
       "  </tbody>\n",
       "</table>\n",
       "</div>"
      ],
      "text/plain": [
       "   user_id book_id  interaction\n",
       "0        1       A            1\n",
       "1        1       B            1\n",
       "2        2       A            1\n",
       "3        2       C            1\n",
       "4        3       B            1\n",
       "5        3       C            1\n",
       "6        4       D            1"
      ]
     },
     "execution_count": 12,
     "metadata": {},
     "output_type": "execute_result"
    }
   ],
   "source": [
    "import pandas as pd\n",
    "import numpy as np\n",
    "\n",
    "# Example data\n",
    "data = pd.DataFrame({\n",
    "    'user_id': [1, 1, 2, 2, 3, 3, 4],\n",
    "    'book_id': ['A', 'B', 'A', 'C', 'B', 'C', 'D'],\n",
    "    'interaction': [1, 1, 1, 1, 1, 1, 1]  # Interaction could be a purchase\n",
    "})\n",
    "data"
   ]
  },
  {
   "cell_type": "code",
   "execution_count": 13,
   "id": "4bfc86d2-47da-473a-a200-aae255e4e946",
   "metadata": {},
   "outputs": [
    {
     "data": {
      "text/html": [
       "<div>\n",
       "<style scoped>\n",
       "    .dataframe tbody tr th:only-of-type {\n",
       "        vertical-align: middle;\n",
       "    }\n",
       "\n",
       "    .dataframe tbody tr th {\n",
       "        vertical-align: top;\n",
       "    }\n",
       "\n",
       "    .dataframe thead th {\n",
       "        text-align: right;\n",
       "    }\n",
       "</style>\n",
       "<table border=\"1\" class=\"dataframe\">\n",
       "  <thead>\n",
       "    <tr style=\"text-align: right;\">\n",
       "      <th>book_id</th>\n",
       "      <th>A</th>\n",
       "      <th>B</th>\n",
       "      <th>C</th>\n",
       "      <th>D</th>\n",
       "    </tr>\n",
       "    <tr>\n",
       "      <th>user_id</th>\n",
       "      <th></th>\n",
       "      <th></th>\n",
       "      <th></th>\n",
       "      <th></th>\n",
       "    </tr>\n",
       "  </thead>\n",
       "  <tbody>\n",
       "    <tr>\n",
       "      <th>1</th>\n",
       "      <td>1.0</td>\n",
       "      <td>1.0</td>\n",
       "      <td>0.0</td>\n",
       "      <td>0.0</td>\n",
       "    </tr>\n",
       "    <tr>\n",
       "      <th>2</th>\n",
       "      <td>1.0</td>\n",
       "      <td>0.0</td>\n",
       "      <td>1.0</td>\n",
       "      <td>0.0</td>\n",
       "    </tr>\n",
       "    <tr>\n",
       "      <th>3</th>\n",
       "      <td>0.0</td>\n",
       "      <td>1.0</td>\n",
       "      <td>1.0</td>\n",
       "      <td>0.0</td>\n",
       "    </tr>\n",
       "    <tr>\n",
       "      <th>4</th>\n",
       "      <td>0.0</td>\n",
       "      <td>0.0</td>\n",
       "      <td>0.0</td>\n",
       "      <td>1.0</td>\n",
       "    </tr>\n",
       "  </tbody>\n",
       "</table>\n",
       "</div>"
      ],
      "text/plain": [
       "book_id    A    B    C    D\n",
       "user_id                    \n",
       "1        1.0  1.0  0.0  0.0\n",
       "2        1.0  0.0  1.0  0.0\n",
       "3        0.0  1.0  1.0  0.0\n",
       "4        0.0  0.0  0.0  1.0"
      ]
     },
     "execution_count": 13,
     "metadata": {},
     "output_type": "execute_result"
    }
   ],
   "source": [
    "# Create user-item matrix\n",
    "user_item_matrix = pd.pivot_table(data, index='user_id', columns='book_id', values='interaction', fill_value=0)\n",
    "user_item_matrix"
   ]
  },
  {
   "cell_type": "markdown",
   "id": "4c48bd3e-fa3b-47c2-a17c-d47b74e0346f",
   "metadata": {},
   "source": [
    "### 2. Compute Collaborative Filtering Similarity:"
   ]
  },
  {
   "cell_type": "code",
   "execution_count": 17,
   "id": "62200e12-2f9c-45ea-8a5b-1f489cfeef92",
   "metadata": {},
   "outputs": [
    {
     "data": {
      "text/plain": [
       "array([[1. , 0.5, 0.5, 0. ],\n",
       "       [0.5, 1. , 0.5, 0. ],\n",
       "       [0.5, 0.5, 1. , 0. ],\n",
       "       [0. , 0. , 0. , 1. ]])"
      ]
     },
     "execution_count": 17,
     "metadata": {},
     "output_type": "execute_result"
    }
   ],
   "source": [
    "from sklearn.metrics.pairwise import cosine_similarity\n",
    "\n",
    "# Compute item-item similarity using collaborative filtering\n",
    "item_similarity_cf = cosine_similarity(user_item_matrix.T)\n",
    "item_similarity_cf"
   ]
  },
  {
   "cell_type": "code",
   "execution_count": 18,
   "id": "27438324-97f8-48c4-a59b-a6732b04342d",
   "metadata": {},
   "outputs": [
    {
     "data": {
      "text/html": [
       "<div>\n",
       "<style scoped>\n",
       "    .dataframe tbody tr th:only-of-type {\n",
       "        vertical-align: middle;\n",
       "    }\n",
       "\n",
       "    .dataframe tbody tr th {\n",
       "        vertical-align: top;\n",
       "    }\n",
       "\n",
       "    .dataframe thead th {\n",
       "        text-align: right;\n",
       "    }\n",
       "</style>\n",
       "<table border=\"1\" class=\"dataframe\">\n",
       "  <thead>\n",
       "    <tr style=\"text-align: right;\">\n",
       "      <th>book_id</th>\n",
       "      <th>A</th>\n",
       "      <th>B</th>\n",
       "      <th>C</th>\n",
       "      <th>D</th>\n",
       "    </tr>\n",
       "    <tr>\n",
       "      <th>book_id</th>\n",
       "      <th></th>\n",
       "      <th></th>\n",
       "      <th></th>\n",
       "      <th></th>\n",
       "    </tr>\n",
       "  </thead>\n",
       "  <tbody>\n",
       "    <tr>\n",
       "      <th>A</th>\n",
       "      <td>1.0</td>\n",
       "      <td>0.5</td>\n",
       "      <td>0.5</td>\n",
       "      <td>0.0</td>\n",
       "    </tr>\n",
       "    <tr>\n",
       "      <th>B</th>\n",
       "      <td>0.5</td>\n",
       "      <td>1.0</td>\n",
       "      <td>0.5</td>\n",
       "      <td>0.0</td>\n",
       "    </tr>\n",
       "    <tr>\n",
       "      <th>C</th>\n",
       "      <td>0.5</td>\n",
       "      <td>0.5</td>\n",
       "      <td>1.0</td>\n",
       "      <td>0.0</td>\n",
       "    </tr>\n",
       "    <tr>\n",
       "      <th>D</th>\n",
       "      <td>0.0</td>\n",
       "      <td>0.0</td>\n",
       "      <td>0.0</td>\n",
       "      <td>1.0</td>\n",
       "    </tr>\n",
       "  </tbody>\n",
       "</table>\n",
       "</div>"
      ],
      "text/plain": [
       "book_id    A    B    C    D\n",
       "book_id                    \n",
       "A        1.0  0.5  0.5  0.0\n",
       "B        0.5  1.0  0.5  0.0\n",
       "C        0.5  0.5  1.0  0.0\n",
       "D        0.0  0.0  0.0  1.0"
      ]
     },
     "execution_count": 18,
     "metadata": {},
     "output_type": "execute_result"
    }
   ],
   "source": [
    "item_similarity_cf_df = pd.DataFrame(item_similarity_cf, index=user_item_matrix.columns, columns=user_item_matrix.columns)\n",
    "item_similarity_cf_df"
   ]
  },
  {
   "cell_type": "markdown",
   "id": "47a3f679-561b-4e1d-8061-e2d27cf443fb",
   "metadata": {},
   "source": [
    "### 3. Create Item Feature Matrix:"
   ]
  },
  {
   "cell_type": "code",
   "execution_count": 20,
   "id": "bc4e302e-0dfa-40e8-95cd-5f39a690f090",
   "metadata": {},
   "outputs": [
    {
     "data": {
      "text/html": [
       "<div>\n",
       "<style scoped>\n",
       "    .dataframe tbody tr th:only-of-type {\n",
       "        vertical-align: middle;\n",
       "    }\n",
       "\n",
       "    .dataframe tbody tr th {\n",
       "        vertical-align: top;\n",
       "    }\n",
       "\n",
       "    .dataframe thead th {\n",
       "        text-align: right;\n",
       "    }\n",
       "</style>\n",
       "<table border=\"1\" class=\"dataframe\">\n",
       "  <thead>\n",
       "    <tr style=\"text-align: right;\">\n",
       "      <th></th>\n",
       "      <th>book_id</th>\n",
       "      <th>author</th>\n",
       "      <th>category</th>\n",
       "    </tr>\n",
       "  </thead>\n",
       "  <tbody>\n",
       "    <tr>\n",
       "      <th>0</th>\n",
       "      <td>A</td>\n",
       "      <td>Author1</td>\n",
       "      <td>Fiction</td>\n",
       "    </tr>\n",
       "    <tr>\n",
       "      <th>1</th>\n",
       "      <td>B</td>\n",
       "      <td>Author2</td>\n",
       "      <td>Non-Fiction</td>\n",
       "    </tr>\n",
       "    <tr>\n",
       "      <th>2</th>\n",
       "      <td>C</td>\n",
       "      <td>Author1</td>\n",
       "      <td>Fiction</td>\n",
       "    </tr>\n",
       "    <tr>\n",
       "      <th>3</th>\n",
       "      <td>D</td>\n",
       "      <td>Author3</td>\n",
       "      <td>Non-Fiction</td>\n",
       "    </tr>\n",
       "  </tbody>\n",
       "</table>\n",
       "</div>"
      ],
      "text/plain": [
       "  book_id   author     category\n",
       "0       A  Author1      Fiction\n",
       "1       B  Author2  Non-Fiction\n",
       "2       C  Author1      Fiction\n",
       "3       D  Author3  Non-Fiction"
      ]
     },
     "execution_count": 20,
     "metadata": {},
     "output_type": "execute_result"
    }
   ],
   "source": [
    "# Example book features (author and category)\n",
    "book_features = pd.DataFrame({\n",
    "    'book_id': ['A', 'B', 'C', 'D'],\n",
    "    'author': ['Author1', 'Author2', 'Author1', 'Author3'],\n",
    "    'category': ['Fiction', 'Non-Fiction', 'Fiction', 'Non-Fiction']\n",
    "})\n",
    "book_features"
   ]
  },
  {
   "cell_type": "code",
   "execution_count": 21,
   "id": "29e71542-1af7-4e88-a58f-0097e975a347",
   "metadata": {},
   "outputs": [
    {
     "data": {
      "text/html": [
       "<div>\n",
       "<style scoped>\n",
       "    .dataframe tbody tr th:only-of-type {\n",
       "        vertical-align: middle;\n",
       "    }\n",
       "\n",
       "    .dataframe tbody tr th {\n",
       "        vertical-align: top;\n",
       "    }\n",
       "\n",
       "    .dataframe thead th {\n",
       "        text-align: right;\n",
       "    }\n",
       "</style>\n",
       "<table border=\"1\" class=\"dataframe\">\n",
       "  <thead>\n",
       "    <tr style=\"text-align: right;\">\n",
       "      <th></th>\n",
       "      <th>author_Author1</th>\n",
       "      <th>author_Author2</th>\n",
       "      <th>author_Author3</th>\n",
       "      <th>category_Fiction</th>\n",
       "      <th>category_Non-Fiction</th>\n",
       "    </tr>\n",
       "    <tr>\n",
       "      <th>book_id</th>\n",
       "      <th></th>\n",
       "      <th></th>\n",
       "      <th></th>\n",
       "      <th></th>\n",
       "      <th></th>\n",
       "    </tr>\n",
       "  </thead>\n",
       "  <tbody>\n",
       "    <tr>\n",
       "      <th>A</th>\n",
       "      <td>True</td>\n",
       "      <td>False</td>\n",
       "      <td>False</td>\n",
       "      <td>True</td>\n",
       "      <td>False</td>\n",
       "    </tr>\n",
       "    <tr>\n",
       "      <th>B</th>\n",
       "      <td>False</td>\n",
       "      <td>True</td>\n",
       "      <td>False</td>\n",
       "      <td>False</td>\n",
       "      <td>True</td>\n",
       "    </tr>\n",
       "    <tr>\n",
       "      <th>C</th>\n",
       "      <td>True</td>\n",
       "      <td>False</td>\n",
       "      <td>False</td>\n",
       "      <td>True</td>\n",
       "      <td>False</td>\n",
       "    </tr>\n",
       "    <tr>\n",
       "      <th>D</th>\n",
       "      <td>False</td>\n",
       "      <td>False</td>\n",
       "      <td>True</td>\n",
       "      <td>False</td>\n",
       "      <td>True</td>\n",
       "    </tr>\n",
       "  </tbody>\n",
       "</table>\n",
       "</div>"
      ],
      "text/plain": [
       "         author_Author1  author_Author2  author_Author3  category_Fiction  \\\n",
       "book_id                                                                     \n",
       "A                  True           False           False              True   \n",
       "B                 False            True           False             False   \n",
       "C                  True           False           False              True   \n",
       "D                 False           False            True             False   \n",
       "\n",
       "         category_Non-Fiction  \n",
       "book_id                        \n",
       "A                       False  \n",
       "B                        True  \n",
       "C                       False  \n",
       "D                        True  "
      ]
     },
     "execution_count": 21,
     "metadata": {},
     "output_type": "execute_result"
    }
   ],
   "source": [
    "# Convert categorical features to numerical values (e.g., using one-hot encoding)\n",
    "book_features_encoded = pd.get_dummies(book_features.set_index('book_id'))\n",
    "book_features_encoded"
   ]
  },
  {
   "cell_type": "markdown",
   "id": "7fa6eb1c-0ffb-4697-bffe-f75b8eb43fa7",
   "metadata": {},
   "source": [
    "### 4. Compute Content-Based Similarity:"
   ]
  },
  {
   "cell_type": "code",
   "execution_count": 22,
   "id": "faebf5b5-68ed-45d2-b529-cf40c6f3053d",
   "metadata": {},
   "outputs": [
    {
     "data": {
      "text/plain": [
       "array([[1. , 0. , 1. , 0. ],\n",
       "       [0. , 1. , 0. , 0.5],\n",
       "       [1. , 0. , 1. , 0. ],\n",
       "       [0. , 0.5, 0. , 1. ]])"
      ]
     },
     "execution_count": 22,
     "metadata": {},
     "output_type": "execute_result"
    }
   ],
   "source": [
    "# Compute item-item similarity using content-based filtering\n",
    "item_similarity_cb = cosine_similarity(book_features_encoded)\n",
    "item_similarity_cb"
   ]
  },
  {
   "cell_type": "code",
   "execution_count": 23,
   "id": "058e2816-daf1-4a3f-ad4c-72897449f78b",
   "metadata": {},
   "outputs": [
    {
     "data": {
      "text/html": [
       "<div>\n",
       "<style scoped>\n",
       "    .dataframe tbody tr th:only-of-type {\n",
       "        vertical-align: middle;\n",
       "    }\n",
       "\n",
       "    .dataframe tbody tr th {\n",
       "        vertical-align: top;\n",
       "    }\n",
       "\n",
       "    .dataframe thead th {\n",
       "        text-align: right;\n",
       "    }\n",
       "</style>\n",
       "<table border=\"1\" class=\"dataframe\">\n",
       "  <thead>\n",
       "    <tr style=\"text-align: right;\">\n",
       "      <th>book_id</th>\n",
       "      <th>A</th>\n",
       "      <th>B</th>\n",
       "      <th>C</th>\n",
       "      <th>D</th>\n",
       "    </tr>\n",
       "    <tr>\n",
       "      <th>book_id</th>\n",
       "      <th></th>\n",
       "      <th></th>\n",
       "      <th></th>\n",
       "      <th></th>\n",
       "    </tr>\n",
       "  </thead>\n",
       "  <tbody>\n",
       "    <tr>\n",
       "      <th>A</th>\n",
       "      <td>1.0</td>\n",
       "      <td>0.0</td>\n",
       "      <td>1.0</td>\n",
       "      <td>0.0</td>\n",
       "    </tr>\n",
       "    <tr>\n",
       "      <th>B</th>\n",
       "      <td>0.0</td>\n",
       "      <td>1.0</td>\n",
       "      <td>0.0</td>\n",
       "      <td>0.5</td>\n",
       "    </tr>\n",
       "    <tr>\n",
       "      <th>C</th>\n",
       "      <td>1.0</td>\n",
       "      <td>0.0</td>\n",
       "      <td>1.0</td>\n",
       "      <td>0.0</td>\n",
       "    </tr>\n",
       "    <tr>\n",
       "      <th>D</th>\n",
       "      <td>0.0</td>\n",
       "      <td>0.5</td>\n",
       "      <td>0.0</td>\n",
       "      <td>1.0</td>\n",
       "    </tr>\n",
       "  </tbody>\n",
       "</table>\n",
       "</div>"
      ],
      "text/plain": [
       "book_id    A    B    C    D\n",
       "book_id                    \n",
       "A        1.0  0.0  1.0  0.0\n",
       "B        0.0  1.0  0.0  0.5\n",
       "C        1.0  0.0  1.0  0.0\n",
       "D        0.0  0.5  0.0  1.0"
      ]
     },
     "execution_count": 23,
     "metadata": {},
     "output_type": "execute_result"
    }
   ],
   "source": [
    "item_similarity_cb_df = pd.DataFrame(item_similarity_cb, index=book_features_encoded.index, columns=book_features_encoded.index)\n",
    "item_similarity_cb_df"
   ]
  },
  {
   "cell_type": "markdown",
   "id": "4fa2753c-b03a-421d-9418-151dc6a4ed2c",
   "metadata": {},
   "source": [
    "### 5. Combine Similarity Scores:"
   ]
  },
  {
   "cell_type": "code",
   "execution_count": 25,
   "id": "bfee0af8-86ec-4ab6-8a04-06e500e641b6",
   "metadata": {},
   "outputs": [
    {
     "data": {
      "text/html": [
       "<div>\n",
       "<style scoped>\n",
       "    .dataframe tbody tr th:only-of-type {\n",
       "        vertical-align: middle;\n",
       "    }\n",
       "\n",
       "    .dataframe tbody tr th {\n",
       "        vertical-align: top;\n",
       "    }\n",
       "\n",
       "    .dataframe thead th {\n",
       "        text-align: right;\n",
       "    }\n",
       "</style>\n",
       "<table border=\"1\" class=\"dataframe\">\n",
       "  <thead>\n",
       "    <tr style=\"text-align: right;\">\n",
       "      <th>book_id</th>\n",
       "      <th>A</th>\n",
       "      <th>B</th>\n",
       "      <th>C</th>\n",
       "      <th>D</th>\n",
       "    </tr>\n",
       "    <tr>\n",
       "      <th>book_id</th>\n",
       "      <th></th>\n",
       "      <th></th>\n",
       "      <th></th>\n",
       "      <th></th>\n",
       "    </tr>\n",
       "  </thead>\n",
       "  <tbody>\n",
       "    <tr>\n",
       "      <th>A</th>\n",
       "      <td>1.00</td>\n",
       "      <td>0.25</td>\n",
       "      <td>0.75</td>\n",
       "      <td>0.00</td>\n",
       "    </tr>\n",
       "    <tr>\n",
       "      <th>B</th>\n",
       "      <td>0.25</td>\n",
       "      <td>1.00</td>\n",
       "      <td>0.25</td>\n",
       "      <td>0.25</td>\n",
       "    </tr>\n",
       "    <tr>\n",
       "      <th>C</th>\n",
       "      <td>0.75</td>\n",
       "      <td>0.25</td>\n",
       "      <td>1.00</td>\n",
       "      <td>0.00</td>\n",
       "    </tr>\n",
       "    <tr>\n",
       "      <th>D</th>\n",
       "      <td>0.00</td>\n",
       "      <td>0.25</td>\n",
       "      <td>0.00</td>\n",
       "      <td>1.00</td>\n",
       "    </tr>\n",
       "  </tbody>\n",
       "</table>\n",
       "</div>"
      ],
      "text/plain": [
       "book_id     A     B     C     D\n",
       "book_id                        \n",
       "A        1.00  0.25  0.75  0.00\n",
       "B        0.25  1.00  0.25  0.25\n",
       "C        0.75  0.25  1.00  0.00\n",
       "D        0.00  0.25  0.00  1.00"
      ]
     },
     "execution_count": 25,
     "metadata": {},
     "output_type": "execute_result"
    }
   ],
   "source": [
    "# Combine collaborative filtering and content-based similarity scores\n",
    "hybrid_similarity = (item_similarity_cf_df + item_similarity_cb_df) / 2\n",
    "hybrid_similarity"
   ]
  },
  {
   "cell_type": "markdown",
   "id": "c2a8bfb7-2567-425b-a36e-c41b038e456c",
   "metadata": {},
   "source": [
    "### 6. Generate Recommendations:"
   ]
  },
  {
   "cell_type": "code",
   "execution_count": 26,
   "id": "93934466-3d9f-4ca1-895d-7450343607cb",
   "metadata": {},
   "outputs": [
    {
     "data": {
      "text/plain": [
       "book_id\n",
       "C    0.75\n",
       "B    0.25\n",
       "D    0.00\n",
       "Name: A, dtype: float64"
      ]
     },
     "execution_count": 26,
     "metadata": {},
     "output_type": "execute_result"
    }
   ],
   "source": [
    "def get_recommendations(book_id, hybrid_similarity, top_n=5):\n",
    "    # Get the similarity scores for the given book\n",
    "    similar_books = hybrid_similarity[book_id].sort_values(ascending=False)\n",
    "    # Exclude the book itself from the recommendations\n",
    "    similar_books = similar_books.drop(book_id)\n",
    "    # Return the top N similar books\n",
    "    return similar_books.head(top_n)\n",
    "\n",
    "# Example: Get recommendations for book 'A'\n",
    "recommendations = get_recommendations('A', hybrid_similarity)\n",
    "recommendations\n"
   ]
  }
 ],
 "metadata": {
  "kernelspec": {
   "display_name": "Python 3 (ipykernel)",
   "language": "python",
   "name": "python3"
  },
  "language_info": {
   "codemirror_mode": {
    "name": "ipython",
    "version": 3
   },
   "file_extension": ".py",
   "mimetype": "text/x-python",
   "name": "python",
   "nbconvert_exporter": "python",
   "pygments_lexer": "ipython3",
   "version": "3.11.8"
  }
 },
 "nbformat": 4,
 "nbformat_minor": 5
}
