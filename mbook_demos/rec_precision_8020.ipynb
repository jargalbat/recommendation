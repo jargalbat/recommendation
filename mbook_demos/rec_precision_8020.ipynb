{
 "cells": [
  {
   "metadata": {
    "ExecuteTime": {
     "end_time": "2024-06-24T06:11:34.242737Z",
     "start_time": "2024-06-24T06:11:34.239251Z"
    }
   },
   "cell_type": "code",
   "source": [
    "6-10-iig sanal bolgoj baigaa\n",
    "\n",
    "Threshold\tMean Precision@5\tMean Recall@5\n",
    "1\t0.13\t0.32\n",
    "2\t0.13\t0.32\n",
    "3\t0.15\t0.34\n",
    "4\t0.17\t0.34\n",
    "5\t0.19\t0.33\n",
    "6\t0.20\t0.33\n",
    "7\t0.21\t0.33\n",
    "8\t0.22\t0.33\n",
    "9\t0.22\t0.33\n",
    "10\t0.23\t0.33\n",
    "11\t0.23\t0.33\n",
    "12\t0.24\t0.33\n",
    "13\t0.24\t0.33\n",
    "14\t0.26\t0.29\n",
    "15\t0.26\t0.27\n",
    "20\t0.29\t0.23\n"
   ],
   "id": "aea14fd42ce7ebdb",
   "outputs": [],
   "execution_count": 1
  },
  {
   "metadata": {},
   "cell_type": "code",
   "outputs": [],
   "execution_count": null,
   "source": [
    "Analysis of Recommendation System Performance\n",
    "Precision and Recall Metrics\n",
    "Precision: The precision metric tells us the proportion of recommended items that are relevant. Higher precision means that more of the recommended books are actually of interest to the users.\n",
    "Recall: The recall metric tells us the proportion of relevant items that are recommended. Higher recall means that more of the books that are of interest to the users are actually being recommended.\n",
    "Observations\n",
    "As the threshold increases, the precision generally increases. This means that the recommendations are becoming more accurate, with a higher proportion of the recommended books being relevant to the users.\n",
    "The recall generally decreases with higher thresholds. This means that while the recommendations are becoming more precise, they are covering a smaller proportion of all the books that are of interest to the users.\n",
    "Interpretation\n",
    "Low Thresholds (1-5): At lower thresholds, both precision and recall are relatively low. This suggests that the recommendations are not very accurate, and not many relevant books are being recommended.\n",
    "Medium Thresholds (6-10): In this range, the precision improves while the recall remains relatively stable. This indicates a good balance between recommending relevant books and covering a significant portion of the books of interest.\n",
    "High Thresholds (11-20): At higher thresholds, the precision continues to improve, but recall starts to drop more noticeably. This indicates that the recommendations are becoming very accurate, but the system is recommending fewer books in total, potentially missing out on some books that could be of interest.\n",
    "Recommendations for Improvement\n",
    "Threshold Tuning: The optimal threshold seems to be in the range of 6-10, where there is a good balance between precision and recall. This range ensures that the recommendations are both accurate and comprehensive.\n",
    "Hybrid Approach: Consider combining collaborative filtering with content-based filtering to improve both precision and recall. Content-based filtering can help ensure that even less frequently purchased books are recommended if they match the user's interests.\n",
    "User Feedback: Incorporate user feedback to refine the recommendations further. Allow users to rate the recommended books and use this feedback to adjust the recommendation algorithm.\n",
    "Diversity: Ensure diversity in the recommendations to avoid recommending similar books repeatedly. Introduce a mechanism to recommend a mix of popular and niche books.\n",
    "Conclusion\n",
    "The current recommendation system shows an improvement in precision with increasing thresholds, but this comes at the cost of recall. Finding an optimal balance between precision and recall is crucial. For practical purposes, focusing on the threshold range of 6-10 might provide the best user experience, ensuring that the recommendations are both accurate and sufficiently comprehensive.\n",
    "\n"
   ],
   "id": "aa8d7926e73b19e4"
  }
 ],
 "metadata": {
  "kernelspec": {
   "display_name": "Python 3",
   "language": "python",
   "name": "python3"
  },
  "language_info": {
   "codemirror_mode": {
    "name": "ipython",
    "version": 2
   },
   "file_extension": ".py",
   "mimetype": "text/x-python",
   "name": "python",
   "nbconvert_exporter": "python",
   "pygments_lexer": "ipython2",
   "version": "2.7.6"
  }
 },
 "nbformat": 4,
 "nbformat_minor": 5
}
