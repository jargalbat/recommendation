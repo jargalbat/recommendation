{
 "cells": [
  {
   "metadata": {},
   "cell_type": "markdown",
   "source": [
    "# Neighborhood - Collaborative filtering\n",
    "\n",
    "### Similarity metrics\n",
    "- Cosine similarity\n",
    "- Adjusted cosine similarity\n",
    "- Pearson similarity (Item based) - Average from all users харгалзаж үзэх\n",
    "- Spearman rank correlation - Pearson similarity based on ranks, not ratings. All ratings average = rank\n",
    "- Mean squared difference - MSD - How each user rated each item\n",
    "- Jaccard similarity - Огтлолцол \n",
    "\n",
    "Cosine similarity is a good Jack of all trades. It's almost always a reasonable thing to start with.\n",
    "\n",
    "Adjusted cosine and Pearson, are two different terms for basically the same thing. It's mean centered cosine similarities at the end of the day. So, it works in average rating behavior across all of the users item ratings, or the average ratings of an item across all users depending on which way you flip it. The idea is to deal with unusual rating behavior that deviated from the mean, but in practice, it can sometimes do more harm than good.\n",
    "\n",
    "Spearman rank correlation is the same idea as Pearson, using rankings instead of raw ratings, and its not something you are likely to be using in practice. \n",
    "\n",
    "MSD is mean squared difference, which is just an easier similarity metric to wrap your head around than cosine similarity, but in practice, it usually doesn't perform better.\n",
    "\n",
    "Finally we talked about Jaccard similarity. Which is just looking at how many items two users have in common, or how may users two items have in common divided by how many items or users they have between both of them.\n",
    "\n",
    "It's really simple and well suited to implicit ratings, like binary actions, like purchasing or viewing something, where you either do something or you don't.\n",
    "\n",
    "But, you can also apply cosine similarities to implicit ratings too.\n",
    "\n",
    "So, at the end of the day, cosine similarity remains my default go to similarity metric."
   ],
   "id": "267d0d7e92a74ca8"
  },
  {
   "metadata": {},
   "cell_type": "markdown",
   "source": [
    "# User-based collaborative filtering\n",
    "user -> item rating matrix\n",
    "user -> user similarity matrix\n",
    "look up similar users\n",
    "candidate generation\n",
    "candidate scoring\n",
    "candidate filtering"
   ],
   "id": "3d766384e7324b3d"
  },
  {
   "metadata": {},
   "cell_type": "markdown",
   "source": "# Item-based collaborative filtering\n",
   "id": "ef53fc866c49451d"
  }
 ],
 "metadata": {
  "kernelspec": {
   "display_name": "Python 3",
   "language": "python",
   "name": "python3"
  },
  "language_info": {
   "codemirror_mode": {
    "name": "ipython",
    "version": 2
   },
   "file_extension": ".py",
   "mimetype": "text/x-python",
   "name": "python",
   "nbconvert_exporter": "python",
   "pygments_lexer": "ipython2",
   "version": "2.7.6"
  }
 },
 "nbformat": 4,
 "nbformat_minor": 5
}
